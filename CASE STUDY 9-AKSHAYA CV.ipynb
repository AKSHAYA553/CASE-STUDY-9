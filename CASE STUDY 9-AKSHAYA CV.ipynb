{
 "cells": [
  {
   "cell_type": "markdown",
   "id": "0566d566",
   "metadata": {},
   "source": [
    "# Importing the libraries"
   ]
  },
  {
   "cell_type": "code",
   "execution_count": 1,
   "id": "c1c375a6",
   "metadata": {},
   "outputs": [],
   "source": [
    "import pandas as pd \n",
    "import seaborn as sns \n",
    "import matplotlib.pyplot as plt \n",
    "import numpy as np \n",
    "from sklearn.svm import SVC \n",
    "from sklearn import metrics\n",
    "from sklearn.model_selection import train_test_split,ShuffleSplit\n",
    "import warnings\n",
    "warnings.filterwarnings('ignore')\n",
    "sns.set_style('whitegrid')\n",
    "from sklearn.decomposition import PCA\n",
    "from sklearn.preprocessing import StandardScaler\n",
    "from itertools import chain"
   ]
  },
  {
   "cell_type": "markdown",
   "id": "e4f89d94",
   "metadata": {},
   "source": [
    "# 1. Read the dataset to the python environment"
   ]
  },
  {
   "cell_type": "code",
   "execution_count": 2,
   "id": "3c793d16",
   "metadata": {},
   "outputs": [
    {
     "data": {
      "text/html": [
       "<div>\n",
       "<style scoped>\n",
       "    .dataframe tbody tr th:only-of-type {\n",
       "        vertical-align: middle;\n",
       "    }\n",
       "\n",
       "    .dataframe tbody tr th {\n",
       "        vertical-align: top;\n",
       "    }\n",
       "\n",
       "    .dataframe thead th {\n",
       "        text-align: right;\n",
       "    }\n",
       "</style>\n",
       "<table border=\"1\" class=\"dataframe\">\n",
       "  <thead>\n",
       "    <tr style=\"text-align: right;\">\n",
       "      <th></th>\n",
       "      <th>Alcohol</th>\n",
       "      <th>Malic_Acid</th>\n",
       "      <th>Ash</th>\n",
       "      <th>Ash_Alcanity</th>\n",
       "      <th>Magnesium</th>\n",
       "      <th>Total_Phenols</th>\n",
       "      <th>Flavanoids</th>\n",
       "      <th>Nonflavanoid_Phenols</th>\n",
       "      <th>Proanthocyanins</th>\n",
       "      <th>Color_Intensity</th>\n",
       "      <th>Hue</th>\n",
       "      <th>OD280</th>\n",
       "      <th>Proline</th>\n",
       "    </tr>\n",
       "  </thead>\n",
       "  <tbody>\n",
       "    <tr>\n",
       "      <th>0</th>\n",
       "      <td>14.23</td>\n",
       "      <td>1.71</td>\n",
       "      <td>2.43</td>\n",
       "      <td>15.6</td>\n",
       "      <td>127</td>\n",
       "      <td>2.80</td>\n",
       "      <td>3.06</td>\n",
       "      <td>0.28</td>\n",
       "      <td>2.29</td>\n",
       "      <td>5.64</td>\n",
       "      <td>1.04</td>\n",
       "      <td>3.92</td>\n",
       "      <td>1065</td>\n",
       "    </tr>\n",
       "    <tr>\n",
       "      <th>1</th>\n",
       "      <td>13.20</td>\n",
       "      <td>1.78</td>\n",
       "      <td>2.14</td>\n",
       "      <td>11.2</td>\n",
       "      <td>100</td>\n",
       "      <td>2.65</td>\n",
       "      <td>2.76</td>\n",
       "      <td>0.26</td>\n",
       "      <td>1.28</td>\n",
       "      <td>4.38</td>\n",
       "      <td>1.05</td>\n",
       "      <td>3.40</td>\n",
       "      <td>1050</td>\n",
       "    </tr>\n",
       "    <tr>\n",
       "      <th>2</th>\n",
       "      <td>13.16</td>\n",
       "      <td>2.36</td>\n",
       "      <td>2.67</td>\n",
       "      <td>18.6</td>\n",
       "      <td>101</td>\n",
       "      <td>2.80</td>\n",
       "      <td>3.24</td>\n",
       "      <td>0.30</td>\n",
       "      <td>2.81</td>\n",
       "      <td>5.68</td>\n",
       "      <td>1.03</td>\n",
       "      <td>3.17</td>\n",
       "      <td>1185</td>\n",
       "    </tr>\n",
       "    <tr>\n",
       "      <th>3</th>\n",
       "      <td>14.37</td>\n",
       "      <td>1.95</td>\n",
       "      <td>2.50</td>\n",
       "      <td>16.8</td>\n",
       "      <td>113</td>\n",
       "      <td>3.85</td>\n",
       "      <td>3.49</td>\n",
       "      <td>0.24</td>\n",
       "      <td>2.18</td>\n",
       "      <td>7.80</td>\n",
       "      <td>0.86</td>\n",
       "      <td>3.45</td>\n",
       "      <td>1480</td>\n",
       "    </tr>\n",
       "    <tr>\n",
       "      <th>4</th>\n",
       "      <td>13.24</td>\n",
       "      <td>2.59</td>\n",
       "      <td>2.87</td>\n",
       "      <td>21.0</td>\n",
       "      <td>118</td>\n",
       "      <td>2.80</td>\n",
       "      <td>2.69</td>\n",
       "      <td>0.39</td>\n",
       "      <td>1.82</td>\n",
       "      <td>4.32</td>\n",
       "      <td>1.04</td>\n",
       "      <td>2.93</td>\n",
       "      <td>735</td>\n",
       "    </tr>\n",
       "  </tbody>\n",
       "</table>\n",
       "</div>"
      ],
      "text/plain": [
       "   Alcohol  Malic_Acid   Ash  Ash_Alcanity  Magnesium  Total_Phenols  \\\n",
       "0    14.23        1.71  2.43          15.6        127           2.80   \n",
       "1    13.20        1.78  2.14          11.2        100           2.65   \n",
       "2    13.16        2.36  2.67          18.6        101           2.80   \n",
       "3    14.37        1.95  2.50          16.8        113           3.85   \n",
       "4    13.24        2.59  2.87          21.0        118           2.80   \n",
       "\n",
       "   Flavanoids  Nonflavanoid_Phenols  Proanthocyanins  Color_Intensity   Hue  \\\n",
       "0        3.06                  0.28             2.29             5.64  1.04   \n",
       "1        2.76                  0.26             1.28             4.38  1.05   \n",
       "2        3.24                  0.30             2.81             5.68  1.03   \n",
       "3        3.49                  0.24             2.18             7.80  0.86   \n",
       "4        2.69                  0.39             1.82             4.32  1.04   \n",
       "\n",
       "   OD280  Proline  \n",
       "0   3.92     1065  \n",
       "1   3.40     1050  \n",
       "2   3.17     1185  \n",
       "3   3.45     1480  \n",
       "4   2.93      735  "
      ]
     },
     "execution_count": 2,
     "metadata": {},
     "output_type": "execute_result"
    }
   ],
   "source": [
    "df = pd.read_csv(\"Wine.csv\")\n",
    "df.head()"
   ]
  },
  {
   "cell_type": "code",
   "execution_count": 3,
   "id": "094b7c80",
   "metadata": {},
   "outputs": [
    {
     "name": "stdout",
     "output_type": "stream",
     "text": [
      "<class 'pandas.core.frame.DataFrame'>\n",
      "RangeIndex: 178 entries, 0 to 177\n",
      "Data columns (total 13 columns):\n",
      " #   Column                Non-Null Count  Dtype  \n",
      "---  ------                --------------  -----  \n",
      " 0   Alcohol               178 non-null    float64\n",
      " 1   Malic_Acid            178 non-null    float64\n",
      " 2   Ash                   178 non-null    float64\n",
      " 3   Ash_Alcanity          178 non-null    float64\n",
      " 4   Magnesium             178 non-null    int64  \n",
      " 5   Total_Phenols         178 non-null    float64\n",
      " 6   Flavanoids            178 non-null    float64\n",
      " 7   Nonflavanoid_Phenols  178 non-null    float64\n",
      " 8   Proanthocyanins       178 non-null    float64\n",
      " 9   Color_Intensity       178 non-null    float64\n",
      " 10  Hue                   178 non-null    float64\n",
      " 11  OD280                 178 non-null    float64\n",
      " 12  Proline               178 non-null    int64  \n",
      "dtypes: float64(11), int64(2)\n",
      "memory usage: 18.2 KB\n"
     ]
    }
   ],
   "source": [
    "df.info()"
   ]
  },
  {
   "cell_type": "code",
   "execution_count": 4,
   "id": "0bdf9b86",
   "metadata": {},
   "outputs": [
    {
     "data": {
      "text/plain": [
       "(178, 13)"
      ]
     },
     "execution_count": 4,
     "metadata": {},
     "output_type": "execute_result"
    }
   ],
   "source": [
    "df.shape"
   ]
  },
  {
   "cell_type": "code",
   "execution_count": 5,
   "id": "7586ef1b",
   "metadata": {},
   "outputs": [
    {
     "data": {
      "text/html": [
       "<div>\n",
       "<style scoped>\n",
       "    .dataframe tbody tr th:only-of-type {\n",
       "        vertical-align: middle;\n",
       "    }\n",
       "\n",
       "    .dataframe tbody tr th {\n",
       "        vertical-align: top;\n",
       "    }\n",
       "\n",
       "    .dataframe thead th {\n",
       "        text-align: right;\n",
       "    }\n",
       "</style>\n",
       "<table border=\"1\" class=\"dataframe\">\n",
       "  <thead>\n",
       "    <tr style=\"text-align: right;\">\n",
       "      <th></th>\n",
       "      <th>Alcohol</th>\n",
       "      <th>Malic_Acid</th>\n",
       "      <th>Ash</th>\n",
       "      <th>Ash_Alcanity</th>\n",
       "      <th>Magnesium</th>\n",
       "      <th>Total_Phenols</th>\n",
       "      <th>Flavanoids</th>\n",
       "      <th>Nonflavanoid_Phenols</th>\n",
       "      <th>Proanthocyanins</th>\n",
       "      <th>Color_Intensity</th>\n",
       "      <th>Hue</th>\n",
       "      <th>OD280</th>\n",
       "      <th>Proline</th>\n",
       "    </tr>\n",
       "  </thead>\n",
       "  <tbody>\n",
       "    <tr>\n",
       "      <th>count</th>\n",
       "      <td>178.000000</td>\n",
       "      <td>178.000000</td>\n",
       "      <td>178.000000</td>\n",
       "      <td>178.000000</td>\n",
       "      <td>178.000000</td>\n",
       "      <td>178.000000</td>\n",
       "      <td>178.000000</td>\n",
       "      <td>178.000000</td>\n",
       "      <td>178.000000</td>\n",
       "      <td>178.000000</td>\n",
       "      <td>178.000000</td>\n",
       "      <td>178.000000</td>\n",
       "      <td>178.000000</td>\n",
       "    </tr>\n",
       "    <tr>\n",
       "      <th>mean</th>\n",
       "      <td>13.000618</td>\n",
       "      <td>2.336348</td>\n",
       "      <td>2.366517</td>\n",
       "      <td>19.494944</td>\n",
       "      <td>99.741573</td>\n",
       "      <td>2.295112</td>\n",
       "      <td>2.029270</td>\n",
       "      <td>0.361854</td>\n",
       "      <td>1.590899</td>\n",
       "      <td>5.058090</td>\n",
       "      <td>0.957449</td>\n",
       "      <td>2.611685</td>\n",
       "      <td>746.893258</td>\n",
       "    </tr>\n",
       "    <tr>\n",
       "      <th>std</th>\n",
       "      <td>0.811827</td>\n",
       "      <td>1.117146</td>\n",
       "      <td>0.274344</td>\n",
       "      <td>3.339564</td>\n",
       "      <td>14.282484</td>\n",
       "      <td>0.625851</td>\n",
       "      <td>0.998859</td>\n",
       "      <td>0.124453</td>\n",
       "      <td>0.572359</td>\n",
       "      <td>2.318286</td>\n",
       "      <td>0.228572</td>\n",
       "      <td>0.709990</td>\n",
       "      <td>314.907474</td>\n",
       "    </tr>\n",
       "    <tr>\n",
       "      <th>min</th>\n",
       "      <td>11.030000</td>\n",
       "      <td>0.740000</td>\n",
       "      <td>1.360000</td>\n",
       "      <td>10.600000</td>\n",
       "      <td>70.000000</td>\n",
       "      <td>0.980000</td>\n",
       "      <td>0.340000</td>\n",
       "      <td>0.130000</td>\n",
       "      <td>0.410000</td>\n",
       "      <td>1.280000</td>\n",
       "      <td>0.480000</td>\n",
       "      <td>1.270000</td>\n",
       "      <td>278.000000</td>\n",
       "    </tr>\n",
       "    <tr>\n",
       "      <th>25%</th>\n",
       "      <td>12.362500</td>\n",
       "      <td>1.602500</td>\n",
       "      <td>2.210000</td>\n",
       "      <td>17.200000</td>\n",
       "      <td>88.000000</td>\n",
       "      <td>1.742500</td>\n",
       "      <td>1.205000</td>\n",
       "      <td>0.270000</td>\n",
       "      <td>1.250000</td>\n",
       "      <td>3.220000</td>\n",
       "      <td>0.782500</td>\n",
       "      <td>1.937500</td>\n",
       "      <td>500.500000</td>\n",
       "    </tr>\n",
       "    <tr>\n",
       "      <th>50%</th>\n",
       "      <td>13.050000</td>\n",
       "      <td>1.865000</td>\n",
       "      <td>2.360000</td>\n",
       "      <td>19.500000</td>\n",
       "      <td>98.000000</td>\n",
       "      <td>2.355000</td>\n",
       "      <td>2.135000</td>\n",
       "      <td>0.340000</td>\n",
       "      <td>1.555000</td>\n",
       "      <td>4.690000</td>\n",
       "      <td>0.965000</td>\n",
       "      <td>2.780000</td>\n",
       "      <td>673.500000</td>\n",
       "    </tr>\n",
       "    <tr>\n",
       "      <th>75%</th>\n",
       "      <td>13.677500</td>\n",
       "      <td>3.082500</td>\n",
       "      <td>2.557500</td>\n",
       "      <td>21.500000</td>\n",
       "      <td>107.000000</td>\n",
       "      <td>2.800000</td>\n",
       "      <td>2.875000</td>\n",
       "      <td>0.437500</td>\n",
       "      <td>1.950000</td>\n",
       "      <td>6.200000</td>\n",
       "      <td>1.120000</td>\n",
       "      <td>3.170000</td>\n",
       "      <td>985.000000</td>\n",
       "    </tr>\n",
       "    <tr>\n",
       "      <th>max</th>\n",
       "      <td>14.830000</td>\n",
       "      <td>5.800000</td>\n",
       "      <td>3.230000</td>\n",
       "      <td>30.000000</td>\n",
       "      <td>162.000000</td>\n",
       "      <td>3.880000</td>\n",
       "      <td>5.080000</td>\n",
       "      <td>0.660000</td>\n",
       "      <td>3.580000</td>\n",
       "      <td>13.000000</td>\n",
       "      <td>1.710000</td>\n",
       "      <td>4.000000</td>\n",
       "      <td>1680.000000</td>\n",
       "    </tr>\n",
       "  </tbody>\n",
       "</table>\n",
       "</div>"
      ],
      "text/plain": [
       "          Alcohol  Malic_Acid         Ash  Ash_Alcanity   Magnesium  \\\n",
       "count  178.000000  178.000000  178.000000    178.000000  178.000000   \n",
       "mean    13.000618    2.336348    2.366517     19.494944   99.741573   \n",
       "std      0.811827    1.117146    0.274344      3.339564   14.282484   \n",
       "min     11.030000    0.740000    1.360000     10.600000   70.000000   \n",
       "25%     12.362500    1.602500    2.210000     17.200000   88.000000   \n",
       "50%     13.050000    1.865000    2.360000     19.500000   98.000000   \n",
       "75%     13.677500    3.082500    2.557500     21.500000  107.000000   \n",
       "max     14.830000    5.800000    3.230000     30.000000  162.000000   \n",
       "\n",
       "       Total_Phenols  Flavanoids  Nonflavanoid_Phenols  Proanthocyanins  \\\n",
       "count     178.000000  178.000000            178.000000       178.000000   \n",
       "mean        2.295112    2.029270              0.361854         1.590899   \n",
       "std         0.625851    0.998859              0.124453         0.572359   \n",
       "min         0.980000    0.340000              0.130000         0.410000   \n",
       "25%         1.742500    1.205000              0.270000         1.250000   \n",
       "50%         2.355000    2.135000              0.340000         1.555000   \n",
       "75%         2.800000    2.875000              0.437500         1.950000   \n",
       "max         3.880000    5.080000              0.660000         3.580000   \n",
       "\n",
       "       Color_Intensity         Hue       OD280      Proline  \n",
       "count       178.000000  178.000000  178.000000   178.000000  \n",
       "mean          5.058090    0.957449    2.611685   746.893258  \n",
       "std           2.318286    0.228572    0.709990   314.907474  \n",
       "min           1.280000    0.480000    1.270000   278.000000  \n",
       "25%           3.220000    0.782500    1.937500   500.500000  \n",
       "50%           4.690000    0.965000    2.780000   673.500000  \n",
       "75%           6.200000    1.120000    3.170000   985.000000  \n",
       "max          13.000000    1.710000    4.000000  1680.000000  "
      ]
     },
     "execution_count": 5,
     "metadata": {},
     "output_type": "execute_result"
    }
   ],
   "source": [
    "df.describe()"
   ]
  },
  {
   "cell_type": "markdown",
   "id": "6d772217",
   "metadata": {},
   "source": [
    "Outliers Detection"
   ]
  },
  {
   "cell_type": "code",
   "execution_count": 6,
   "id": "416c34e6",
   "metadata": {},
   "outputs": [
    {
     "data": {
      "text/plain": [
       "<AxesSubplot:>"
      ]
     },
     "execution_count": 6,
     "metadata": {},
     "output_type": "execute_result"
    },
    {
     "data": {
      "image/png": "[encoded data removed]",
      "text/plain": [
       "<Figure size 1152x576 with 1 Axes>"
      ]
     },
     "metadata": {},
     "output_type": "display_data"
    }
   ],
   "source": [
    "from sklearn.preprocessing import MinMaxScaler\n",
    "scaler = MinMaxScaler() \n",
    "scaled_values = scaler.fit_transform(df) \n",
    "df.loc[:,:] = scaled_values\n",
    "\n",
    "sns.set(rc={'figure.figsize':(16,8)}, font_scale=0.9, style='whitegrid')\n",
    "df.boxplot(widths = 0.9)"
   ]
  },
  {
   "cell_type": "code",
   "execution_count": 7,
   "id": "9dd282ec",
   "metadata": {},
   "outputs": [
    {
     "name": "stdout",
     "output_type": "stream",
     "text": [
      "(178, 13)\n"
     ]
    }
   ],
   "source": [
    "def IQR_OutlierRemoval(new_df):  \n",
    "    Q1 = new_df.quantile(0.25)\n",
    "    Q3 = new_df.quantile(0.75)\n",
    "    IQR = Q3 - Q1\n",
    "\n",
    "    new_df = new_df[~((new_df < (Q1 - 1.5 * IQR)) |(new_df > (Q3 + 1.5 * IQR))).any(axis=1)]\n",
    "\n",
    "    return new_df\n",
    "   \n",
    "\n",
    "df2 = df.copy()\n",
    "\n",
    "print(df2.shape)"
   ]
  },
  {
   "cell_type": "code",
   "execution_count": 8,
   "id": "29787204",
   "metadata": {},
   "outputs": [
    {
     "data": {
      "text/plain": [
       "(161, 13)"
      ]
     },
     "execution_count": 8,
     "metadata": {},
     "output_type": "execute_result"
    }
   ],
   "source": [
    "df2 = IQR_OutlierRemoval(df2) #outlier removal\n",
    "df2.shape"
   ]
  },
  {
   "cell_type": "code",
   "execution_count": 9,
   "id": "ee9c4dc6",
   "metadata": {},
   "outputs": [
    {
     "data": {
      "text/plain": [
       "<AxesSubplot:>"
      ]
     },
     "execution_count": 9,
     "metadata": {},
     "output_type": "execute_result"
    },
    {
     "data": {
      "image/png": "[encoded data removed]",
      "text/plain": [
       "<Figure size 1152x576 with 1 Axes>"
      ]
     },
     "metadata": {},
     "output_type": "display_data"
    }
   ],
   "source": [
    "scaler = MinMaxScaler() \n",
    "scaled_values = scaler.fit_transform(df2) \n",
    "df2.loc[:,:] = scaled_values\n",
    "\n",
    "sns.set(rc={'figure.figsize':(16,8)}, font_scale=0.9, style='whitegrid')\n",
    "df2.boxplot(widths = 0.9)"
   ]
  },
  {
   "cell_type": "markdown",
   "id": "f3a575f5",
   "metadata": {},
   "source": [
    "Now the outliers are removed"
   ]
  },
  {
   "cell_type": "code",
   "execution_count": 10,
   "id": "ea573fe8",
   "metadata": {},
   "outputs": [
    {
     "data": {
      "text/plain": [
       "array([0.8245614 , 0.52339181, 0.51169591, 0.86549708, 0.53508772,\n",
       "       0.81578947, 0.87134503, 0.7748538 , 1.        , 0.71637427,\n",
       "       0.78654971, 0.79239766, 0.68421053, 0.97660819, 0.86842105,\n",
       "       0.64912281, 0.84502924, 0.70760234, 0.8128655 , 0.65204678,\n",
       "       0.7748538 , 0.44444444, 0.67251462, 0.42105263, 0.61111111,\n",
       "       0.57894737, 0.55263158, 0.71929825, 0.76315789, 0.67836257,\n",
       "       0.63450292, 0.66374269, 0.6871345 , 0.61403509, 0.60526316,\n",
       "       0.54678363, 0.47953216, 0.48538012, 0.82163743, 0.62865497,\n",
       "       0.58479532, 0.72222222, 0.53508772, 0.47953216, 0.81871345,\n",
       "       0.86842105, 0.72807018, 0.78654971, 0.73976608, 0.47953216,\n",
       "       0.70760234, 0.70467836, 0.69005848, 0.68128655, 0.62865497,\n",
       "       0.82163743, 0.5497076 , 0.6754386 , 0.26900585, 0.35964912,\n",
       "       0.66081871, 0.28070175, 0.22222222, 0.28070175, 0.49707602,\n",
       "       0.28070175, 0.56432749, 0.25730994, 0.71637427, 0.60818713,\n",
       "       0.16081871, 0.07309942, 0.47368421, 0.12573099, 0.37719298,\n",
       "       0.17251462, 0.38304094, 0.19590643, 0.47953216, 0.12573099,\n",
       "       0.36842105, 0.21929825, 0.07017544, 0.06725146, 0.19590643,\n",
       "       0.19590643, 0.17251462, 0.37426901, 0.25730994, 0.06140351,\n",
       "       0.11695906, 0.25730994, 0.28070175, 0.25730994, 0.19590643,\n",
       "       0.34795322, 0.27192982, 0.11988304, 0.32163743, 0.29532164,\n",
       "       0.24561404, 0.38304094, 0.23684211, 0.05847953, 0.3245614 ,\n",
       "       0.10233918, 0.        , 0.19590643, 0.11988304, 0.29532164,\n",
       "       0.39766082, 0.17251462, 0.01169591, 0.29532164, 0.13450292,\n",
       "       0.19298246, 0.29824561, 0.28070175, 0.18421053, 0.42397661,\n",
       "       0.42982456, 0.40935673, 0.37719298, 0.32163743, 0.34795322,\n",
       "       0.24561404, 0.60818713, 0.41812865, 0.44444444, 0.57017544,\n",
       "       0.61695906, 0.64619883, 0.24561404, 0.51169591, 0.72222222,\n",
       "       0.42690058, 0.55847953, 0.48830409, 0.61111111, 0.49707602,\n",
       "       0.53216374, 0.34210526, 0.51461988, 0.71052632, 0.30409357,\n",
       "       0.27777778, 0.66666667, 0.42105263, 0.45321637, 0.69298246,\n",
       "       0.67836257, 0.4122807 , 0.63450292, 0.58187135, 0.23099415,\n",
       "       0.39766082, 0.80409357, 0.58187135, 0.54385965, 0.51461988,\n",
       "       0.79532164])"
      ]
     },
     "execution_count": 10,
     "metadata": {},
     "output_type": "execute_result"
    }
   ],
   "source": [
    "df2.iloc[:, 0].values"
   ]
  },
  {
   "cell_type": "code",
   "execution_count": 11,
   "id": "77d44727",
   "metadata": {},
   "outputs": [],
   "source": [
    "from sklearn.model_selection import train_test_split\n",
    "X, y = df2.iloc[:, 1:].values, df2.iloc[:, 0].values\n",
    "X_train, X_test, y_train, y_test = \\\n",
    "        train_test_split(X, y, test_size=0.3, random_state=0)"
   ]
  },
  {
   "cell_type": "code",
   "execution_count": 12,
   "id": "adc3648d",
   "metadata": {},
   "outputs": [
    {
     "data": {
      "text/plain": [
       "(49, 112)"
      ]
     },
     "execution_count": 12,
     "metadata": {},
     "output_type": "execute_result"
    }
   ],
   "source": [
    "len(X_test), len(X_train)"
   ]
  },
  {
   "cell_type": "markdown",
   "id": "530ac4b8",
   "metadata": {},
   "source": [
    "Normalization"
   ]
  },
  {
   "cell_type": "code",
   "execution_count": 13,
   "id": "ef01de2a",
   "metadata": {},
   "outputs": [],
   "source": [
    "from sklearn.preprocessing import MinMaxScaler\n",
    "mms = MinMaxScaler()\n",
    "X_train_norm = mms.fit_transform(X_train)\n",
    "X_test_norm = mms.transform(X_test)"
   ]
  },
  {
   "cell_type": "code",
   "execution_count": 14,
   "id": "66cfa5aa",
   "metadata": {},
   "outputs": [
    {
     "data": {
      "text/plain": [
       "array([0.10465116, 0.16393443, 0.49324324, 0.29032258, 0.12727273,\n",
       "       0.25722543, 0.30188679, 0.36862745, 0.0808656 , 0.56818182,\n",
       "       0.56603774, 0.20256776])"
      ]
     },
     "execution_count": 14,
     "metadata": {},
     "output_type": "execute_result"
    }
   ],
   "source": [
    "X_train_norm[0]"
   ]
  },
  {
   "cell_type": "code",
   "execution_count": 15,
   "id": "c48bc2f5",
   "metadata": {},
   "outputs": [
    {
     "data": {
      "text/plain": [
       "array([ 0.59069767,  0.24590164,  0.52702703,  0.27419355,  0.32727273,\n",
       "        0.33815029,  0.45283019,  0.57254902, -0.0523918 ,  0.44318182,\n",
       "        0.67169811,  0.20399429])"
      ]
     },
     "execution_count": 15,
     "metadata": {},
     "output_type": "execute_result"
    }
   ],
   "source": [
    "X_test_norm[0]"
   ]
  },
  {
   "cell_type": "code",
   "execution_count": 16,
   "id": "43c8cd18",
   "metadata": {},
   "outputs": [],
   "source": [
    "from sklearn.preprocessing import StandardScaler\n",
    "stdsc = StandardScaler()\n",
    "X_train_std = stdsc.fit_transform(X_train)\n",
    "X_test_std = stdsc.transform(X_test)"
   ]
  },
  {
   "cell_type": "code",
   "execution_count": 17,
   "id": "f658de83",
   "metadata": {},
   "outputs": [
    {
     "data": {
      "text/plain": [
       "array([-0.92036941, -1.88042012, -0.22938702, -0.78469448, -1.37574916,\n",
       "       -0.74262854, -0.56225944, -0.46309137, -1.21899404,  0.36756837,\n",
       "        0.15799327, -0.58319101])"
      ]
     },
     "execution_count": 17,
     "metadata": {},
     "output_type": "execute_result"
    }
   ],
   "source": [
    "X_train_std[0]"
   ]
  },
  {
   "cell_type": "code",
   "execution_count": 19,
   "id": "c48d4d72",
   "metadata": {},
   "outputs": [],
   "source": [
    "import sklearn\n",
    "from sklearn.cluster import KMeans\n",
    "from sklearn.cluster import MeanShift\n",
    "from sklearn.cluster import AgglomerativeClustering\n",
    "from sklearn.cluster import SpectralClustering\n",
    "from sklearn.cluster import AffinityPropagation\n",
    "from sklearn.metrics import silhouette_score\n"
   ]
  },
  {
   "cell_type": "markdown",
   "id": "eda2c57c",
   "metadata": {},
   "source": [
    "# 2. Try out different clustering models in the wine dataset.\n"
   ]
  },
  {
   "cell_type": "markdown",
   "id": "2460d7f0",
   "metadata": {},
   "source": [
    "KMeans Clustering"
   ]
  },
  {
   "cell_type": "code",
   "execution_count": 20,
   "id": "46190ffe",
   "metadata": {},
   "outputs": [
    {
     "name": "stdout",
     "output_type": "stream",
     "text": [
      "[0.31504412213688404, 0.3006857559154694, 0.2486967629364531, 0.21981952306602864, 0.14680315716496123, 0.1527411962282687, 0.14746687273732184, 0.15467244562209354, 0.14603218503863724]\n"
     ]
    }
   ],
   "source": [
    "n_clusters = [2,3,4,5,6,7,8,9,10] \n",
    "clusters_inertia = [] \n",
    "kmeans_sil_score = [] \n",
    "\n",
    "for n in n_clusters:\n",
    "    kmeans = KMeans(n_clusters=n, init='k-means++').fit(X_train_std)\n",
    "    clusters_inertia.append(kmeans.inertia_)   \n",
    "    silhouette_avg = silhouette_score(X_train_std, kmeans.labels_)\n",
    "    kmeans_sil_score.append(silhouette_avg) \n",
    "print(kmeans_sil_score)"
   ]
  },
  {
   "cell_type": "code",
   "execution_count": 21,
   "id": "234587a7",
   "metadata": {},
   "outputs": [
    {
     "data": {
      "image/png": "[encoded data removed]",
      "text/plain": [
       "<Figure size 864x360 with 1 Axes>"
      ]
     },
     "metadata": {},
     "output_type": "display_data"
    }
   ],
   "source": [
    "fig, ax = plt.subplots(figsize=(12,5))\n",
    "ax = sns.lineplot(n_clusters, clusters_inertia, marker='o', ax=ax, linewidth=2, color='#6A51A3')\n",
    "ax.set_title(\"Elbow Plot\")\n",
    "ax.set_xlabel(\"K = num_cluster\")\n",
    "ax.set_ylabel(\"Sum Square Error = clusters inertia\")\n",
    "ax.axvline(3, ls=\"--\", c=\"red\")\n",
    "ax.axvline(4, ls=\"--\", c=\"red\")\n",
    "plt.grid()\n",
    "plt.show()\n",
    "\n"
   ]
  },
  {
   "cell_type": "markdown",
   "id": "97f1e789",
   "metadata": {},
   "source": [
    "Here \"elbow\" is not visible properly.The cluster can be either 3 or 4."
   ]
  },
  {
   "cell_type": "markdown",
   "id": "84e84f8c",
   "metadata": {},
   "source": [
    "# 3. Find the optimum number of clusters in each model and create the model with the optimum number of clusters.\n"
   ]
  },
  {
   "cell_type": "markdown",
   "id": "12769f00",
   "metadata": {},
   "source": [
    "Plotting Silhouette score"
   ]
  },
  {
   "cell_type": "code",
   "execution_count": 23,
   "id": "7e6f7f9b",
   "metadata": {},
   "outputs": [
    {
     "data": {
      "image/png": "[encoded data removed]",
      "text/plain": [
       "<Figure size 864x360 with 1 Axes>"
      ]
     },
     "metadata": {},
     "output_type": "display_data"
    }
   ],
   "source": [
    "fig, ax = plt.subplots(figsize=(12,5))\n",
    "ax = sns.lineplot(n_clusters, kmeans_sil_score, marker='o', ax=ax)\n",
    "ax.set_title(\"Silhouette score method\")\n",
    "ax.set_xlabel(\"number of clusters\")\n",
    "ax.set_ylabel(\"Silhouette score\")\n",
    "ax.axvline(3, ls=\"--\", c=\"red\")\n",
    "plt.grid()\n",
    "plt.show()"
   ]
  },
  {
   "cell_type": "markdown",
   "id": "73ad9499",
   "metadata": {},
   "source": [
    "So here the optimal number of clusters is found to be 3"
   ]
  },
  {
   "cell_type": "markdown",
   "id": "701e6bf6",
   "metadata": {},
   "source": [
    "Fitting the K-Means model"
   ]
  },
  {
   "cell_type": "code",
   "execution_count": 24,
   "id": "bd8323a7",
   "metadata": {},
   "outputs": [],
   "source": [
    "KM_5_clusters = KMeans(n_clusters=3 , init='k-means++').fit(df2) \n",
    "\n",
    "KM5_clustered = df2.copy()\n",
    "KM5_clustered.loc[:,'Cluster'] = KM_5_clusters.labels_ "
   ]
  },
  {
   "cell_type": "code",
   "execution_count": 25,
   "id": "1f01fb10",
   "metadata": {},
   "outputs": [
    {
     "data": {
      "image/png": "[encoded data removed]",
      "text/plain": [
       "<Figure size 864x360 with 2 Axes>"
      ]
     },
     "metadata": {},
     "output_type": "display_data"
    }
   ],
   "source": [
    "fig1, (axes) = plt.subplots(1,2,figsize=(12,5))\n",
    "\n",
    "\n",
    "scat_1 = sns.scatterplot('Alcohol', 'Proanthocyanins', data=KM5_clustered,\n",
    "                hue='Cluster', ax=axes[0], palette='Set1', legend='full')\n",
    "\n",
    "sns.scatterplot('Malic_Acid', 'Proanthocyanins', data=KM5_clustered,\n",
    "                hue='Cluster', palette='Set1', ax=axes[1], legend='full')\n",
    "\n",
    "axes[0].scatter(KM_5_clusters.cluster_centers_[:,1],KM_5_clusters.cluster_centers_[:,2], marker='s', s=40, c=\"blue\")\n",
    "axes[1].scatter(KM_5_clusters.cluster_centers_[:,0],KM_5_clusters.cluster_centers_[:,2], marker='s', s=40, c=\"blue\")\n",
    "plt.show()"
   ]
  },
  {
   "cell_type": "code",
   "execution_count": 26,
   "id": "15ab50c4",
   "metadata": {},
   "outputs": [
    {
     "data": {
      "text/html": [
       "<div>\n",
       "<style scoped>\n",
       "    .dataframe tbody tr th:only-of-type {\n",
       "        vertical-align: middle;\n",
       "    }\n",
       "\n",
       "    .dataframe tbody tr th {\n",
       "        vertical-align: top;\n",
       "    }\n",
       "\n",
       "    .dataframe thead th {\n",
       "        text-align: right;\n",
       "    }\n",
       "</style>\n",
       "<table border=\"1\" class=\"dataframe\">\n",
       "  <thead>\n",
       "    <tr style=\"text-align: right;\">\n",
       "      <th></th>\n",
       "      <th>KM_size = 3</th>\n",
       "    </tr>\n",
       "    <tr>\n",
       "      <th>Cluster</th>\n",
       "      <th></th>\n",
       "    </tr>\n",
       "  </thead>\n",
       "  <tbody>\n",
       "    <tr>\n",
       "      <th>0</th>\n",
       "      <td>58</td>\n",
       "    </tr>\n",
       "    <tr>\n",
       "      <th>1</th>\n",
       "      <td>45</td>\n",
       "    </tr>\n",
       "    <tr>\n",
       "      <th>2</th>\n",
       "      <td>58</td>\n",
       "    </tr>\n",
       "  </tbody>\n",
       "</table>\n",
       "</div>"
      ],
      "text/plain": [
       "         KM_size = 3\n",
       "Cluster             \n",
       "0                 58\n",
       "1                 45\n",
       "2                 58"
      ]
     },
     "execution_count": 26,
     "metadata": {},
     "output_type": "execute_result"
    }
   ],
   "source": [
    "KM_clust_sizes = KM5_clustered.groupby('Cluster').size().to_frame()\n",
    "KM_clust_sizes.columns = [\"KM_size = 3\"]\n",
    "KM_clust_sizes"
   ]
  },
  {
   "cell_type": "markdown",
   "id": "1d9a0100",
   "metadata": {},
   "source": [
    "Agglomerative Clustering"
   ]
  },
  {
   "cell_type": "code",
   "execution_count": 27,
   "id": "88ebe94c",
   "metadata": {},
   "outputs": [
    {
     "data": {
      "text/html": [
       "<div>\n",
       "<style scoped>\n",
       "    .dataframe tbody tr th:only-of-type {\n",
       "        vertical-align: middle;\n",
       "    }\n",
       "\n",
       "    .dataframe tbody tr th {\n",
       "        vertical-align: top;\n",
       "    }\n",
       "\n",
       "    .dataframe thead th {\n",
       "        text-align: right;\n",
       "    }\n",
       "</style>\n",
       "<table border=\"1\" class=\"dataframe\">\n",
       "  <thead>\n",
       "    <tr style=\"text-align: right;\">\n",
       "      <th></th>\n",
       "      <th>n_clusters</th>\n",
       "      <th>clusters</th>\n",
       "      <th>sil_score</th>\n",
       "    </tr>\n",
       "  </thead>\n",
       "  <tbody>\n",
       "    <tr>\n",
       "      <th>0</th>\n",
       "      <td>2.0</td>\n",
       "      <td>2.0</td>\n",
       "      <td>0.296668</td>\n",
       "    </tr>\n",
       "    <tr>\n",
       "      <th>1</th>\n",
       "      <td>3.0</td>\n",
       "      <td>3.0</td>\n",
       "      <td>0.294829</td>\n",
       "    </tr>\n",
       "    <tr>\n",
       "      <th>2</th>\n",
       "      <td>4.0</td>\n",
       "      <td>4.0</td>\n",
       "      <td>0.248703</td>\n",
       "    </tr>\n",
       "    <tr>\n",
       "      <th>7</th>\n",
       "      <td>9.0</td>\n",
       "      <td>9.0</td>\n",
       "      <td>0.212090</td>\n",
       "    </tr>\n",
       "    <tr>\n",
       "      <th>6</th>\n",
       "      <td>8.0</td>\n",
       "      <td>8.0</td>\n",
       "      <td>0.211014</td>\n",
       "    </tr>\n",
       "  </tbody>\n",
       "</table>\n",
       "</div>"
      ],
      "text/plain": [
       "   n_clusters  clusters  sil_score\n",
       "0         2.0       2.0   0.296668\n",
       "1         3.0       3.0   0.294829\n",
       "2         4.0       4.0   0.248703\n",
       "7         9.0       9.0   0.212090\n",
       "6         8.0       8.0   0.211014"
      ]
     },
     "execution_count": 27,
     "metadata": {},
     "output_type": "execute_result"
    }
   ],
   "source": [
    "df4 = df.copy()\n",
    "\n",
    "\n",
    "scaler = MinMaxScaler() \n",
    "scaled_values = scaler.fit_transform(df4) \n",
    "df4.loc[:,:] = scaled_values\n",
    "\n",
    "\n",
    "nr_clusters = []\n",
    "n_clusters = range(2, 10) \n",
    "ag_sil_score = [] \n",
    "for p in n_clusters:\n",
    "    ag = AgglomerativeClustering(n_clusters=p).fit(df4)\n",
    "    nr_clusters.append((len(np.unique(ag.labels_))))\n",
    "    ag_sil_score.append(silhouette_score(df4, ag.labels_))\n",
    "    \n",
    "results = pd.DataFrame([n_clusters, nr_clusters, ag_sil_score], index=['n_clusters','clusters', 'sil_score']).T\n",
    "results.sort_values(by='sil_score', ascending=False).head()"
   ]
  },
  {
   "cell_type": "markdown",
   "id": "03dfccb6",
   "metadata": {},
   "source": [
    "Finding the optimum number of clusters in each model and create the model with the optimum number of clusters."
   ]
  },
  {
   "cell_type": "markdown",
   "id": "35886e93",
   "metadata": {},
   "source": [
    "Plotting silhoette score"
   ]
  },
  {
   "cell_type": "code",
   "execution_count": 28,
   "id": "3bfe2f0b",
   "metadata": {},
   "outputs": [
    {
     "data": {
      "image/png": "[encoded data removed]",
      "text/plain": [
       "<Figure size 864x360 with 1 Axes>"
      ]
     },
     "metadata": {},
     "output_type": "display_data"
    }
   ],
   "source": [
    "fig, ax = plt.subplots(figsize=(12,5))\n",
    "ax = sns.lineplot(n_clusters, ag_sil_score, marker='o', ax=ax, linewidth=2, color='#6A51A3')\n",
    "ax.set_title(\"Silhouette score method\")\n",
    "ax.set_xlabel(\"number of clusters\")\n",
    "ax.set_ylabel(\"Silhouette score\")\n",
    "ax.axvline(3, ls=\"--\", c=\"red\")\n",
    "plt.grid()\n",
    "plt.show()"
   ]
  },
  {
   "cell_type": "markdown",
   "id": "fbf5362d",
   "metadata": {},
   "source": [
    "the optimum cluster number is 3"
   ]
  },
  {
   "cell_type": "markdown",
   "id": "37e27e0b",
   "metadata": {},
   "source": [
    "Fitting the Agglomerative Clustering  model"
   ]
  },
  {
   "cell_type": "code",
   "execution_count": 30,
   "id": "6d224d06",
   "metadata": {},
   "outputs": [
    {
     "data": {
      "text/html": [
       "<div>\n",
       "<style scoped>\n",
       "    .dataframe tbody tr th:only-of-type {\n",
       "        vertical-align: middle;\n",
       "    }\n",
       "\n",
       "    .dataframe tbody tr th {\n",
       "        vertical-align: top;\n",
       "    }\n",
       "\n",
       "    .dataframe thead th {\n",
       "        text-align: right;\n",
       "    }\n",
       "</style>\n",
       "<table border=\"1\" class=\"dataframe\">\n",
       "  <thead>\n",
       "    <tr style=\"text-align: right;\">\n",
       "      <th></th>\n",
       "      <th>Agglomerative Clustering size</th>\n",
       "    </tr>\n",
       "    <tr>\n",
       "      <th>Cluster</th>\n",
       "      <th></th>\n",
       "    </tr>\n",
       "  </thead>\n",
       "  <tbody>\n",
       "    <tr>\n",
       "      <th>0</th>\n",
       "      <td>71</td>\n",
       "    </tr>\n",
       "    <tr>\n",
       "      <th>1</th>\n",
       "      <td>50</td>\n",
       "    </tr>\n",
       "    <tr>\n",
       "      <th>2</th>\n",
       "      <td>57</td>\n",
       "    </tr>\n",
       "  </tbody>\n",
       "</table>\n",
       "</div>"
      ],
      "text/plain": [
       "         Agglomerative Clustering size\n",
       "Cluster                               \n",
       "0                                   71\n",
       "1                                   50\n",
       "2                                   57"
      ]
     },
     "execution_count": 30,
     "metadata": {},
     "output_type": "execute_result"
    }
   ],
   "source": [
    "ag = AgglomerativeClustering(n_clusters=3).fit(df4)\n",
    "ag_clustered = df4.copy()\n",
    "ag_clustered.loc[:,'Cluster'] = ag.labels_ \n",
    "ag_clust_sizes = ag_clustered.groupby('Cluster').size().to_frame()\n",
    "ag_clust_sizes.columns = [\"Agglomerative Clustering size\"]\n",
    "ag_clust_sizes"
   ]
  },
  {
   "cell_type": "markdown",
   "id": "0b27bbd2",
   "metadata": {},
   "source": [
    "Principal Component Analysis (PCA)"
   ]
  },
  {
   "cell_type": "code",
   "execution_count": 43,
   "id": "ff128666",
   "metadata": {},
   "outputs": [],
   "source": [
    "from sklearn import preprocessing\n",
    "df7 = pd.read_csv(\"Wine.csv\")\n",
    "scaler = preprocessing.StandardScaler().fit(df7)\n",
    "df7 = scaler.transform(df7)"
   ]
  },
  {
   "cell_type": "code",
   "execution_count": 44,
   "id": "389dc71a",
   "metadata": {},
   "outputs": [],
   "source": [
    "from sklearn.decomposition import PCA\n",
    "pc = PCA() \n",
    "results = pc.fit(df7) \n",
    "Z = results.transform(df7)"
   ]
  },
  {
   "cell_type": "code",
   "execution_count": 48,
   "id": "e154c28c",
   "metadata": {},
   "outputs": [
    {
     "data": {
      "image/png": "[encoded data removed]",
      "text/plain": [
       "<Figure size 864x432 with 1 Axes>"
      ]
     },
     "metadata": {
      "needs_background": "light"
     },
     "output_type": "display_data"
    }
   ],
   "source": [
    "from sklearn.preprocessing import MinMaxScaler\n",
    "from sklearn.decomposition import PCA\n",
    "scaler = MinMaxScaler()\n",
    "data_rescaled = scaler.fit_transform(df7)\n",
    "\n",
    "pca = PCA().fit(data_rescaled)\n",
    "\n",
    "%matplotlib inline\n",
    "import matplotlib.pyplot as plt\n",
    "plt.rcParams[\"figure.figsize\"] = (12,6)\n",
    "\n",
    "fig, ax = plt.subplots()\n",
    "xi = np.arange(1, 14, step=1)\n",
    "y = np.cumsum(pca.explained_variance_ratio_)\n",
    "\n",
    "plt.ylim(0.0,1.1)\n",
    "plt.plot(xi, y, marker='o', linestyle='--', color='b')\n",
    "\n",
    "plt.xlabel('Number of Components')\n",
    "plt.xticks(np.arange(0, 11, step=1)) #change from 0-based array index to 1-based human-readable label\n",
    "plt.ylabel('Cumulative varianis ppt complece (%)')\n",
    "plt.title('The number of components needed to explain variance')\n",
    "\n",
    "plt.axhline(y=0.90, color='r', linestyle='-')\n",
    "plt.text(0.5, 0.85,'90% cut-off threshold', color = 'red', fontsize=16)\n",
    "\n",
    "ax.grid(axis='x')\n",
    "plt.show()"
   ]
  },
  {
   "cell_type": "markdown",
   "id": "f7bb5b20",
   "metadata": {},
   "source": [
    "Above screen plot shows the variances explained by each latent variable. The 1st component explains approx. 35% of the variance in the whole dataset.\n",
    "By examining the above figure, we can conclude that first 6 variables contain most of the information."
   ]
  },
  {
   "cell_type": "code",
   "execution_count": 49,
   "id": "1a383bd0",
   "metadata": {},
   "outputs": [],
   "source": [
    "from sklearn.decomposition import PCA\n",
    "pca_r = PCA(7)\n",
    "pca_r_result = pca_r.fit_transform(data_rescaled)"
   ]
  },
  {
   "cell_type": "code",
   "execution_count": 50,
   "id": "b19cb0b5",
   "metadata": {},
   "outputs": [
    {
     "data": {
      "text/html": [
       "<div>\n",
       "<style scoped>\n",
       "    .dataframe tbody tr th:only-of-type {\n",
       "        vertical-align: middle;\n",
       "    }\n",
       "\n",
       "    .dataframe tbody tr th {\n",
       "        vertical-align: top;\n",
       "    }\n",
       "\n",
       "    .dataframe thead th {\n",
       "        text-align: right;\n",
       "    }\n",
       "</style>\n",
       "<table border=\"1\" class=\"dataframe\">\n",
       "  <thead>\n",
       "    <tr style=\"text-align: right;\">\n",
       "      <th></th>\n",
       "      <th>0</th>\n",
       "      <th>1</th>\n",
       "      <th>2</th>\n",
       "      <th>3</th>\n",
       "      <th>4</th>\n",
       "      <th>5</th>\n",
       "      <th>6</th>\n",
       "      <th>7</th>\n",
       "      <th>8</th>\n",
       "      <th>9</th>\n",
       "      <th>10</th>\n",
       "      <th>11</th>\n",
       "      <th>12</th>\n",
       "    </tr>\n",
       "  </thead>\n",
       "  <tbody>\n",
       "    <tr>\n",
       "      <th>0</th>\n",
       "      <td>-0.133368</td>\n",
       "      <td>0.248516</td>\n",
       "      <td>-0.000739</td>\n",
       "      <td>0.177839</td>\n",
       "      <td>-0.088657</td>\n",
       "      <td>-0.395071</td>\n",
       "      <td>-0.414590</td>\n",
       "      <td>0.333109</td>\n",
       "      <td>-0.252902</td>\n",
       "      <td>0.092329</td>\n",
       "      <td>-0.251137</td>\n",
       "      <td>-0.473492</td>\n",
       "      <td>-0.286862</td>\n",
       "    </tr>\n",
       "    <tr>\n",
       "      <th>1</th>\n",
       "      <td>-0.550884</td>\n",
       "      <td>-0.227391</td>\n",
       "      <td>-0.163091</td>\n",
       "      <td>0.079776</td>\n",
       "      <td>-0.188166</td>\n",
       "      <td>-0.074145</td>\n",
       "      <td>-0.001007</td>\n",
       "      <td>-0.009960</td>\n",
       "      <td>-0.031418</td>\n",
       "      <td>-0.519707</td>\n",
       "      <td>0.237206</td>\n",
       "      <td>0.215562</td>\n",
       "      <td>-0.443888</td>\n",
       "    </tr>\n",
       "    <tr>\n",
       "      <th>2</th>\n",
       "      <td>-0.083848</td>\n",
       "      <td>0.492039</td>\n",
       "      <td>0.403009</td>\n",
       "      <td>0.477242</td>\n",
       "      <td>0.006551</td>\n",
       "      <td>0.253065</td>\n",
       "      <td>0.196105</td>\n",
       "      <td>0.285982</td>\n",
       "      <td>0.228342</td>\n",
       "      <td>-0.033100</td>\n",
       "      <td>-0.106589</td>\n",
       "      <td>0.297776</td>\n",
       "      <td>-0.151968</td>\n",
       "    </tr>\n",
       "    <tr>\n",
       "      <th>3</th>\n",
       "      <td>-0.040328</td>\n",
       "      <td>0.486032</td>\n",
       "      <td>-0.241976</td>\n",
       "      <td>-0.081694</td>\n",
       "      <td>0.015880</td>\n",
       "      <td>-0.052643</td>\n",
       "      <td>-0.027033</td>\n",
       "      <td>-0.709095</td>\n",
       "      <td>0.076574</td>\n",
       "      <td>-0.026322</td>\n",
       "      <td>-0.352498</td>\n",
       "      <td>0.082062</td>\n",
       "      <td>-0.229793</td>\n",
       "    </tr>\n",
       "    <tr>\n",
       "      <th>4</th>\n",
       "      <td>-0.278010</td>\n",
       "      <td>-0.412890</td>\n",
       "      <td>0.286394</td>\n",
       "      <td>0.418305</td>\n",
       "      <td>0.470899</td>\n",
       "      <td>-0.018030</td>\n",
       "      <td>0.002573</td>\n",
       "      <td>-0.360038</td>\n",
       "      <td>0.148666</td>\n",
       "      <td>0.200582</td>\n",
       "      <td>-0.077162</td>\n",
       "      <td>-0.263396</td>\n",
       "      <td>-0.076556</td>\n",
       "    </tr>\n",
       "    <tr>\n",
       "      <th>5</th>\n",
       "      <td>-0.137254</td>\n",
       "      <td>-0.213103</td>\n",
       "      <td>-0.300965</td>\n",
       "      <td>-0.135610</td>\n",
       "      <td>-0.312519</td>\n",
       "      <td>0.283604</td>\n",
       "      <td>0.147045</td>\n",
       "      <td>0.197232</td>\n",
       "      <td>0.503115</td>\n",
       "      <td>0.388032</td>\n",
       "      <td>-0.283041</td>\n",
       "      <td>-0.167278</td>\n",
       "      <td>-0.276349</td>\n",
       "    </tr>\n",
       "    <tr>\n",
       "      <th>6</th>\n",
       "      <td>-0.275352</td>\n",
       "      <td>0.310302</td>\n",
       "      <td>-0.171805</td>\n",
       "      <td>-0.297556</td>\n",
       "      <td>0.520419</td>\n",
       "      <td>-0.066524</td>\n",
       "      <td>-0.050698</td>\n",
       "      <td>0.214889</td>\n",
       "      <td>0.466207</td>\n",
       "      <td>-0.212596</td>\n",
       "      <td>0.193315</td>\n",
       "      <td>-0.224561</td>\n",
       "      <td>0.188372</td>\n",
       "    </tr>\n",
       "    <tr>\n",
       "      <th>7</th>\n",
       "      <td>0.555031</td>\n",
       "      <td>-0.076928</td>\n",
       "      <td>-0.123460</td>\n",
       "      <td>0.270756</td>\n",
       "      <td>-0.019937</td>\n",
       "      <td>-0.413384</td>\n",
       "      <td>-0.156461</td>\n",
       "      <td>-0.034232</td>\n",
       "      <td>0.483470</td>\n",
       "      <td>-0.036924</td>\n",
       "      <td>0.295372</td>\n",
       "      <td>0.102303</td>\n",
       "      <td>-0.260229</td>\n",
       "    </tr>\n",
       "    <tr>\n",
       "      <th>8</th>\n",
       "      <td>0.326687</td>\n",
       "      <td>-0.014471</td>\n",
       "      <td>-0.044362</td>\n",
       "      <td>-0.204924</td>\n",
       "      <td>0.471910</td>\n",
       "      <td>0.351232</td>\n",
       "      <td>0.088960</td>\n",
       "      <td>0.122889</td>\n",
       "      <td>-0.284054</td>\n",
       "      <td>-0.023708</td>\n",
       "      <td>0.068775</td>\n",
       "      <td>-0.060197</td>\n",
       "      <td>-0.624839</td>\n",
       "    </tr>\n",
       "    <tr>\n",
       "      <th>9</th>\n",
       "      <td>-0.035912</td>\n",
       "      <td>-0.237073</td>\n",
       "      <td>-0.056899</td>\n",
       "      <td>-0.132503</td>\n",
       "      <td>0.325868</td>\n",
       "      <td>-0.263006</td>\n",
       "      <td>-0.199445</td>\n",
       "      <td>0.236775</td>\n",
       "      <td>0.018743</td>\n",
       "      <td>0.039143</td>\n",
       "      <td>-0.534248</td>\n",
       "      <td>0.602194</td>\n",
       "      <td>0.023829</td>\n",
       "    </tr>\n",
       "    <tr>\n",
       "      <th>10</th>\n",
       "      <td>-0.280685</td>\n",
       "      <td>0.170375</td>\n",
       "      <td>0.090757</td>\n",
       "      <td>-0.200864</td>\n",
       "      <td>0.027277</td>\n",
       "      <td>-0.247764</td>\n",
       "      <td>0.030579</td>\n",
       "      <td>-0.032550</td>\n",
       "      <td>-0.099315</td>\n",
       "      <td>0.669144</td>\n",
       "      <td>0.458588</td>\n",
       "      <td>0.287815</td>\n",
       "      <td>-0.169476</td>\n",
       "    </tr>\n",
       "    <tr>\n",
       "      <th>11</th>\n",
       "      <td>-0.056127</td>\n",
       "      <td>0.061654</td>\n",
       "      <td>-0.632538</td>\n",
       "      <td>0.476650</td>\n",
       "      <td>0.144635</td>\n",
       "      <td>0.333709</td>\n",
       "      <td>-0.299871</td>\n",
       "      <td>0.047311</td>\n",
       "      <td>-0.164957</td>\n",
       "      <td>0.179211</td>\n",
       "      <td>0.157379</td>\n",
       "      <td>0.141063</td>\n",
       "      <td>0.193165</td>\n",
       "    </tr>\n",
       "    <tr>\n",
       "      <th>12</th>\n",
       "      <td>0.011360</td>\n",
       "      <td>0.029428</td>\n",
       "      <td>-0.348604</td>\n",
       "      <td>0.212755</td>\n",
       "      <td>0.123445</td>\n",
       "      <td>-0.387628</td>\n",
       "      <td>0.775692</td>\n",
       "      <td>0.118318</td>\n",
       "      <td>-0.180607</td>\n",
       "      <td>0.016243</td>\n",
       "      <td>-0.095624</td>\n",
       "      <td>-0.081745</td>\n",
       "      <td>0.048119</td>\n",
       "    </tr>\n",
       "  </tbody>\n",
       "</table>\n",
       "</div>"
      ],
      "text/plain": [
       "          0         1         2         3         4         5         6   \\\n",
       "0  -0.133368  0.248516 -0.000739  0.177839 -0.088657 -0.395071 -0.414590   \n",
       "1  -0.550884 -0.227391 -0.163091  0.079776 -0.188166 -0.074145 -0.001007   \n",
       "2  -0.083848  0.492039  0.403009  0.477242  0.006551  0.253065  0.196105   \n",
       "3  -0.040328  0.486032 -0.241976 -0.081694  0.015880 -0.052643 -0.027033   \n",
       "4  -0.278010 -0.412890  0.286394  0.418305  0.470899 -0.018030  0.002573   \n",
       "5  -0.137254 -0.213103 -0.300965 -0.135610 -0.312519  0.283604  0.147045   \n",
       "6  -0.275352  0.310302 -0.171805 -0.297556  0.520419 -0.066524 -0.050698   \n",
       "7   0.555031 -0.076928 -0.123460  0.270756 -0.019937 -0.413384 -0.156461   \n",
       "8   0.326687 -0.014471 -0.044362 -0.204924  0.471910  0.351232  0.088960   \n",
       "9  -0.035912 -0.237073 -0.056899 -0.132503  0.325868 -0.263006 -0.199445   \n",
       "10 -0.280685  0.170375  0.090757 -0.200864  0.027277 -0.247764  0.030579   \n",
       "11 -0.056127  0.061654 -0.632538  0.476650  0.144635  0.333709 -0.299871   \n",
       "12  0.011360  0.029428 -0.348604  0.212755  0.123445 -0.387628  0.775692   \n",
       "\n",
       "          7         8         9         10        11        12  \n",
       "0   0.333109 -0.252902  0.092329 -0.251137 -0.473492 -0.286862  \n",
       "1  -0.009960 -0.031418 -0.519707  0.237206  0.215562 -0.443888  \n",
       "2   0.285982  0.228342 -0.033100 -0.106589  0.297776 -0.151968  \n",
       "3  -0.709095  0.076574 -0.026322 -0.352498  0.082062 -0.229793  \n",
       "4  -0.360038  0.148666  0.200582 -0.077162 -0.263396 -0.076556  \n",
       "5   0.197232  0.503115  0.388032 -0.283041 -0.167278 -0.276349  \n",
       "6   0.214889  0.466207 -0.212596  0.193315 -0.224561  0.188372  \n",
       "7  -0.034232  0.483470 -0.036924  0.295372  0.102303 -0.260229  \n",
       "8   0.122889 -0.284054 -0.023708  0.068775 -0.060197 -0.624839  \n",
       "9   0.236775  0.018743  0.039143 -0.534248  0.602194  0.023829  \n",
       "10 -0.032550 -0.099315  0.669144  0.458588  0.287815 -0.169476  \n",
       "11  0.047311 -0.164957  0.179211  0.157379  0.141063  0.193165  \n",
       "12  0.118318 -0.180607  0.016243 -0.095624 -0.081745  0.048119  "
      ]
     },
     "execution_count": 50,
     "metadata": {},
     "output_type": "execute_result"
    }
   ],
   "source": [
    "pd.DataFrame(pca.components_)"
   ]
  },
  {
   "cell_type": "code",
   "execution_count": 51,
   "id": "bb0b869b",
   "metadata": {},
   "outputs": [
    {
     "data": {
      "text/html": [
       "<div>\n",
       "<style scoped>\n",
       "    .dataframe tbody tr th:only-of-type {\n",
       "        vertical-align: middle;\n",
       "    }\n",
       "\n",
       "    .dataframe tbody tr th {\n",
       "        vertical-align: top;\n",
       "    }\n",
       "\n",
       "    .dataframe thead th {\n",
       "        text-align: right;\n",
       "    }\n",
       "</style>\n",
       "<table border=\"1\" class=\"dataframe\">\n",
       "  <thead>\n",
       "    <tr style=\"text-align: right;\">\n",
       "      <th></th>\n",
       "      <th>Alcohol</th>\n",
       "      <th>Malic_Acid</th>\n",
       "      <th>Ash</th>\n",
       "      <th>Ash_Alcanity</th>\n",
       "      <th>Magnesium</th>\n",
       "      <th>Total_Phenols</th>\n",
       "    </tr>\n",
       "  </thead>\n",
       "  <tbody>\n",
       "    <tr>\n",
       "      <th>0</th>\n",
       "      <td>-0.706336</td>\n",
       "      <td>-0.253193</td>\n",
       "      <td>0.024093</td>\n",
       "      <td>0.013263</td>\n",
       "      <td>-0.026580</td>\n",
       "      <td>-0.074364</td>\n",
       "    </tr>\n",
       "    <tr>\n",
       "      <th>1</th>\n",
       "      <td>-0.484977</td>\n",
       "      <td>-0.008823</td>\n",
       "      <td>-0.280482</td>\n",
       "      <td>0.075898</td>\n",
       "      <td>-0.238634</td>\n",
       "      <td>-0.071877</td>\n",
       "    </tr>\n",
       "    <tr>\n",
       "      <th>2</th>\n",
       "      <td>-0.521172</td>\n",
       "      <td>-0.189187</td>\n",
       "      <td>0.196217</td>\n",
       "      <td>-0.015784</td>\n",
       "      <td>0.045045</td>\n",
       "      <td>0.087116</td>\n",
       "    </tr>\n",
       "    <tr>\n",
       "      <th>3</th>\n",
       "      <td>-0.821644</td>\n",
       "      <td>-0.580906</td>\n",
       "      <td>0.081110</td>\n",
       "      <td>0.012235</td>\n",
       "      <td>-0.004805</td>\n",
       "      <td>0.081987</td>\n",
       "    </tr>\n",
       "    <tr>\n",
       "      <th>4</th>\n",
       "      <td>-0.202546</td>\n",
       "      <td>-0.059467</td>\n",
       "      <td>0.300240</td>\n",
       "      <td>-0.102051</td>\n",
       "      <td>0.105777</td>\n",
       "      <td>-0.116790</td>\n",
       "    </tr>\n",
       "    <tr>\n",
       "      <th>5</th>\n",
       "      <td>-0.608190</td>\n",
       "      <td>-0.487519</td>\n",
       "      <td>-0.075433</td>\n",
       "      <td>-0.184152</td>\n",
       "      <td>-0.068730</td>\n",
       "      <td>0.027011</td>\n",
       "    </tr>\n",
       "    <tr>\n",
       "      <th>6</th>\n",
       "      <td>-0.544047</td>\n",
       "      <td>-0.300196</td>\n",
       "      <td>-0.105075</td>\n",
       "      <td>-0.043006</td>\n",
       "      <td>-0.239967</td>\n",
       "      <td>-0.097480</td>\n",
       "    </tr>\n",
       "    <tr>\n",
       "      <th>7</th>\n",
       "      <td>-0.474357</td>\n",
       "      <td>-0.298197</td>\n",
       "      <td>-0.002821</td>\n",
       "      <td>-0.086235</td>\n",
       "      <td>-0.069381</td>\n",
       "      <td>-0.348479</td>\n",
       "    </tr>\n",
       "    <tr>\n",
       "      <th>8</th>\n",
       "      <td>-0.500432</td>\n",
       "      <td>-0.307603</td>\n",
       "      <td>-0.230494</td>\n",
       "      <td>-0.024397</td>\n",
       "      <td>-0.219723</td>\n",
       "      <td>0.059622</td>\n",
       "    </tr>\n",
       "    <tr>\n",
       "      <th>9</th>\n",
       "      <td>-0.627518</td>\n",
       "      <td>-0.206328</td>\n",
       "      <td>-0.114148</td>\n",
       "      <td>0.059695</td>\n",
       "      <td>-0.049682</td>\n",
       "      <td>0.089690</td>\n",
       "    </tr>\n",
       "  </tbody>\n",
       "</table>\n",
       "</div>"
      ],
      "text/plain": [
       "    Alcohol  Malic_Acid       Ash  Ash_Alcanity  Magnesium  Total_Phenols\n",
       "0 -0.706336   -0.253193  0.024093      0.013263  -0.026580      -0.074364\n",
       "1 -0.484977   -0.008823 -0.280482      0.075898  -0.238634      -0.071877\n",
       "2 -0.521172   -0.189187  0.196217     -0.015784   0.045045       0.087116\n",
       "3 -0.821644   -0.580906  0.081110      0.012235  -0.004805       0.081987\n",
       "4 -0.202546   -0.059467  0.300240     -0.102051   0.105777      -0.116790\n",
       "5 -0.608190   -0.487519 -0.075433     -0.184152  -0.068730       0.027011\n",
       "6 -0.544047   -0.300196 -0.105075     -0.043006  -0.239967      -0.097480\n",
       "7 -0.474357   -0.298197 -0.002821     -0.086235  -0.069381      -0.348479\n",
       "8 -0.500432   -0.307603 -0.230494     -0.024397  -0.219723       0.059622\n",
       "9 -0.627518   -0.206328 -0.114148      0.059695  -0.049682       0.089690"
      ]
     },
     "execution_count": 51,
     "metadata": {},
     "output_type": "execute_result"
    }
   ],
   "source": [
    "\n",
    "\n",
    "pd.DataFrame(pca_r_result[:,:6], columns=list(\n",
    "[u'Alcohol', u'Malic_Acid', u'Ash', u'Ash_Alcanity', u'Magnesium', u'Total_Phenols'])).head(10)"
   ]
  },
  {
   "cell_type": "markdown",
   "id": "7017e83c",
   "metadata": {},
   "source": [
    "We have the 6 columns that contain majority of the information needed, we will apply clustering algorithm to the dataframe and see if reducing dimensionality actually happens."
   ]
  },
  {
   "cell_type": "markdown",
   "id": "900ed562",
   "metadata": {},
   "source": [
    "Applying KMeans clustering after PCA"
   ]
  },
  {
   "cell_type": "code",
   "execution_count": 52,
   "id": "5e11cfca",
   "metadata": {},
   "outputs": [],
   "source": [
    "\n",
    "dfvar = pd.DataFrame(pca_r_result[:,:6], columns=list(\n",
    "[u'Alcohol', u'Malic_Acid', u'Ash', u'Ash_Alcanity', u'Magnesium', u'Total_Phenols'])) \n",
    "KM_3_clusters = KMeans(n_clusters=3 , init='k-means++').fit(dfvar) \n",
    "\n",
    "KM3_clustered = dfvar.copy()\n",
    "KM3_clustered.loc[:,'Cluster'] = KM_3_clusters.labels_ "
   ]
  },
  {
   "cell_type": "code",
   "execution_count": 53,
   "id": "bed39999",
   "metadata": {},
   "outputs": [
    {
     "data": {
      "text/html": [
       "<div>\n",
       "<style scoped>\n",
       "    .dataframe tbody tr th:only-of-type {\n",
       "        vertical-align: middle;\n",
       "    }\n",
       "\n",
       "    .dataframe tbody tr th {\n",
       "        vertical-align: top;\n",
       "    }\n",
       "\n",
       "    .dataframe thead th {\n",
       "        text-align: right;\n",
       "    }\n",
       "</style>\n",
       "<table border=\"1\" class=\"dataframe\">\n",
       "  <thead>\n",
       "    <tr style=\"text-align: right;\">\n",
       "      <th></th>\n",
       "      <th>KM_size = 3 Size After PCA</th>\n",
       "    </tr>\n",
       "    <tr>\n",
       "      <th>Cluster</th>\n",
       "      <th></th>\n",
       "    </tr>\n",
       "  </thead>\n",
       "  <tbody>\n",
       "    <tr>\n",
       "      <th>0</th>\n",
       "      <td>55</td>\n",
       "    </tr>\n",
       "    <tr>\n",
       "      <th>1</th>\n",
       "      <td>62</td>\n",
       "    </tr>\n",
       "    <tr>\n",
       "      <th>2</th>\n",
       "      <td>61</td>\n",
       "    </tr>\n",
       "  </tbody>\n",
       "</table>\n",
       "</div>"
      ],
      "text/plain": [
       "         KM_size = 3 Size After PCA\n",
       "Cluster                            \n",
       "0                                55\n",
       "1                                62\n",
       "2                                61"
      ]
     },
     "execution_count": 53,
     "metadata": {},
     "output_type": "execute_result"
    }
   ],
   "source": [
    "KM_clust_sizes = KM3_clustered.groupby('Cluster').size().to_frame()\n",
    "KM_clust_sizes.columns = [\"KM_size = 3 Size After PCA\"]\n",
    "KM_clust_sizes"
   ]
  },
  {
   "cell_type": "markdown",
   "id": "79115cb6",
   "metadata": {},
   "source": [
    "Applying Agglomerative Clustering clustering after PCA"
   ]
  },
  {
   "cell_type": "code",
   "execution_count": 54,
   "id": "e0ea3bbf",
   "metadata": {},
   "outputs": [
    {
     "data": {
      "text/html": [
       "<div>\n",
       "<style scoped>\n",
       "    .dataframe tbody tr th:only-of-type {\n",
       "        vertical-align: middle;\n",
       "    }\n",
       "\n",
       "    .dataframe tbody tr th {\n",
       "        vertical-align: top;\n",
       "    }\n",
       "\n",
       "    .dataframe thead th {\n",
       "        text-align: right;\n",
       "    }\n",
       "</style>\n",
       "<table border=\"1\" class=\"dataframe\">\n",
       "  <thead>\n",
       "    <tr style=\"text-align: right;\">\n",
       "      <th></th>\n",
       "      <th>n_clusters</th>\n",
       "      <th>clusters</th>\n",
       "      <th>sil_score</th>\n",
       "    </tr>\n",
       "  </thead>\n",
       "  <tbody>\n",
       "    <tr>\n",
       "      <th>1</th>\n",
       "      <td>3.0</td>\n",
       "      <td>3.0</td>\n",
       "      <td>0.328477</td>\n",
       "    </tr>\n",
       "    <tr>\n",
       "      <th>0</th>\n",
       "      <td>2.0</td>\n",
       "      <td>2.0</td>\n",
       "      <td>0.325491</td>\n",
       "    </tr>\n",
       "    <tr>\n",
       "      <th>2</th>\n",
       "      <td>4.0</td>\n",
       "      <td>4.0</td>\n",
       "      <td>0.279820</td>\n",
       "    </tr>\n",
       "    <tr>\n",
       "      <th>3</th>\n",
       "      <td>5.0</td>\n",
       "      <td>5.0</td>\n",
       "      <td>0.262047</td>\n",
       "    </tr>\n",
       "    <tr>\n",
       "      <th>4</th>\n",
       "      <td>6.0</td>\n",
       "      <td>6.0</td>\n",
       "      <td>0.260523</td>\n",
       "    </tr>\n",
       "  </tbody>\n",
       "</table>\n",
       "</div>"
      ],
      "text/plain": [
       "   n_clusters  clusters  sil_score\n",
       "1         3.0       3.0   0.328477\n",
       "0         2.0       2.0   0.325491\n",
       "2         4.0       4.0   0.279820\n",
       "3         5.0       5.0   0.262047\n",
       "4         6.0       6.0   0.260523"
      ]
     },
     "execution_count": 54,
     "metadata": {},
     "output_type": "execute_result"
    }
   ],
   "source": [
    "\n",
    "dfvar = pd.DataFrame(pca_r_result[:,:6], columns=list(\n",
    "[u'Alcohol', u'Malic_Acid', u'Ash', u'Ash_Alcanity', u'Magnesium', u'Total_Phenols']))\n",
    "\n",
    "\n",
    "no_of_clusters = []\n",
    "n_clusters = range(2, 10)\n",
    "ag_sil_score = [] \n",
    "\n",
    "for p in n_clusters:\n",
    "    ag = AgglomerativeClustering(n_clusters=p).fit(dfvar)\n",
    "    no_of_clusters.append((len(np.unique(ag.labels_))))\n",
    "    ag_sil_score.append(silhouette_score(dfvar, ag.labels_))\n",
    "    \n",
    "results = pd.DataFrame([n_clusters, no_of_clusters, ag_sil_score], index=['n_clusters','clusters', 'sil_score']).T\n",
    "results.sort_values(by='sil_score', ascending=False).head() # display only 5 best scores"
   ]
  },
  {
   "cell_type": "code",
   "execution_count": 55,
   "id": "7f25d6d2",
   "metadata": {},
   "outputs": [
    {
     "data": {
      "text/html": [
       "<div>\n",
       "<style scoped>\n",
       "    .dataframe tbody tr th:only-of-type {\n",
       "        vertical-align: middle;\n",
       "    }\n",
       "\n",
       "    .dataframe tbody tr th {\n",
       "        vertical-align: top;\n",
       "    }\n",
       "\n",
       "    .dataframe thead th {\n",
       "        text-align: right;\n",
       "    }\n",
       "</style>\n",
       "<table border=\"1\" class=\"dataframe\">\n",
       "  <thead>\n",
       "    <tr style=\"text-align: right;\">\n",
       "      <th></th>\n",
       "      <th>Agglomerative Clustering size after PCA</th>\n",
       "    </tr>\n",
       "    <tr>\n",
       "      <th>Cluster</th>\n",
       "      <th></th>\n",
       "    </tr>\n",
       "  </thead>\n",
       "  <tbody>\n",
       "    <tr>\n",
       "      <th>0</th>\n",
       "      <td>73</td>\n",
       "    </tr>\n",
       "    <tr>\n",
       "      <th>1</th>\n",
       "      <td>49</td>\n",
       "    </tr>\n",
       "    <tr>\n",
       "      <th>2</th>\n",
       "      <td>56</td>\n",
       "    </tr>\n",
       "  </tbody>\n",
       "</table>\n",
       "</div>"
      ],
      "text/plain": [
       "         Agglomerative Clustering size after PCA\n",
       "Cluster                                         \n",
       "0                                             73\n",
       "1                                             49\n",
       "2                                             56"
      ]
     },
     "execution_count": 55,
     "metadata": {},
     "output_type": "execute_result"
    }
   ],
   "source": [
    "\n",
    "ag = AgglomerativeClustering(n_clusters=3).fit(dfvar)\n",
    "ag_clustered = dfvar.copy()\n",
    "ag_clustered.loc[:,'Cluster'] = ag.labels_ # append labels to points\n",
    "ag_clust_sizes = ag_clustered.groupby('Cluster').size().to_frame()\n",
    "ag_clust_sizes.columns = [\"Agglomerative Clustering size after PCA\"]\n",
    "ag_clust_sizes"
   ]
  },
  {
   "cell_type": "markdown",
   "id": "26235634",
   "metadata": {},
   "source": [
    "So it is observed that after performing PCA the clustering is better for both kmeans and Agglomerative."
   ]
  },
  {
   "cell_type": "code",
   "execution_count": null,
   "id": "f1b7f7f7",
   "metadata": {},
   "outputs": [],
   "source": []
  },
  {
   "cell_type": "markdown",
   "id": "e856cd28",
   "metadata": {},
   "source": []
  },
  {
   "cell_type": "code",
   "execution_count": null,
   "id": "a8112d60",
   "metadata": {},
   "outputs": [],
   "source": []
  },
  {
   "cell_type": "code",
   "execution_count": null,
   "id": "5eca7cb2",
   "metadata": {},
   "outputs": [],
   "source": []
  }
 ],
 "metadata": {
  "kernelspec": {
   "display_name": "Python 3",
   "language": "python",
   "name": "python3"
  },
  "language_info": {
   "codemirror_mode": {
    "name": "ipython",
    "version": 3
   },
   "file_extension": ".py",
   "mimetype": "text/x-python",
   "name": "python",
   "nbconvert_exporter": "python",
   "pygments_lexer": "ipython3",
   "version": "3.8.8"
  }
 },
 "nbformat": 4,
 "nbformat_minor": 5
}
